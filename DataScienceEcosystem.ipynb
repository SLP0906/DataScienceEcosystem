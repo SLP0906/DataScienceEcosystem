{
 "cells": [
  {
   "cell_type": "markdown",
   "id": "856e32da",
   "metadata": {},
   "source": [
    "# Data Science Tools and Ecosystem"
   ]
  },
  {
   "cell_type": "markdown",
   "id": "36949f3a",
   "metadata": {},
   "source": [
    "In this notebook, Data Science Tools and Ecosystem are summarized."
   ]
  },
  {
   "cell_type": "markdown",
   "id": "a755d554",
   "metadata": {},
   "source": [
    "Objectives:\n",
    "* Data Science languages\n",
    "* Data Science Libraries\n",
    "* Data Science Tools\n",
    "* Evaluating Arithmetic Expressions"
   ]
  },
  {
   "cell_type": "markdown",
   "id": "09d99e9c",
   "metadata": {},
   "source": [
    "Some of the popular languages that Data Scientists use are: \n",
    "1. Python\n",
    "2. R\n",
    "3. Java\n"
   ]
  },
  {
   "cell_type": "markdown",
   "id": "aef96a88",
   "metadata": {},
   "source": [
    "Some of the commonly used libraries used by Data Scientists include: \n",
    "1. Scikit-learn\n",
    "2. Tensorflow\n",
    "3. NumPy"
   ]
  },
  {
   "cell_type": "markdown",
   "id": "4192ee63",
   "metadata": {},
   "source": [
    "| Data Science Tools |\n",
    "|---|\n",
    "| RStudio | \n",
    "| Jupyter Notebook | \n",
    "| Github |"
   ]
  },
  {
   "cell_type": "markdown",
   "id": "0ce81560",
   "metadata": {},
   "source": [
    "### Below are a few examples of evaluating arithmetic expressions in Python"
   ]
  },
  {
   "cell_type": "code",
   "execution_count": 9,
   "id": "81051c79",
   "metadata": {},
   "outputs": [
    {
     "data": {
      "text/plain": [
       "17"
      ]
     },
     "execution_count": 9,
     "metadata": {},
     "output_type": "execute_result"
    }
   ],
   "source": [
    "# This a simple arithmetic expression to mutiply then add integers\n",
    "(3*4)+5"
   ]
  },
  {
   "cell_type": "code",
   "execution_count": 11,
   "id": "c11ac12a",
   "metadata": {},
   "outputs": [
    {
     "data": {
      "text/plain": [
       "3.3333333333333335"
      ]
     },
     "execution_count": 11,
     "metadata": {},
     "output_type": "execute_result"
    }
   ],
   "source": [
    "# This will convert 200 minutes to hours by diving by 60\n",
    "200/60"
   ]
  },
  {
   "cell_type": "markdown",
   "id": "52ad4681",
   "metadata": {},
   "source": [
    "## Author\n",
    "Shenglong Pang\n"
   ]
  }
 ],
 "metadata": {
  "kernelspec": {
   "display_name": "Python 3 (ipykernel)",
   "language": "python",
   "name": "python3"
  },
  "language_info": {
   "codemirror_mode": {
    "name": "ipython",
    "version": 3
   },
   "file_extension": ".py",
   "mimetype": "text/x-python",
   "name": "python",
   "nbconvert_exporter": "python",
   "pygments_lexer": "ipython3",
   "version": "3.11.4"
  }
 },
 "nbformat": 4,
 "nbformat_minor": 5
}
